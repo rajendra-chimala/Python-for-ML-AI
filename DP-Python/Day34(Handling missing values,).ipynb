{
 "cells": [
  {
   "cell_type": "markdown",
   "id": "a5326681",
   "metadata": {},
   "source": [
    "# Day 34\n",
    "\n",
    "* Handling Missing Values\n",
    "* Removal Duplicate Records\n",
    "* Outliers Removal"
   ]
  },
  {
   "cell_type": "code",
   "execution_count": 11,
   "id": "94c3dc4d",
   "metadata": {},
   "outputs": [
    {
     "name": "stdout",
     "output_type": "stream",
     "text": [
      "       Name    Age  Gender   Salary Department\n",
      "0     Shyam   12.0       M   3000.0         HR\n",
      "1     Alice   25.0       F  50000.0         HR\n",
      "2       Bob    NaN       M  60000.0         IT\n",
      "3   Charlie   30.0       M      NaN    Finance\n",
      "4     David   22.0       M  45000.0         IT\n",
      "5       Eve   29.0       F  70000.0         HR\n",
      "6     Frank   40.0    Male  80000.0        NaN\n",
      "7     Grace    NaN  Female  75000.0    Finance\n",
      "8     Alice   25.0       F  50000.0         HR\n",
      "9       Ram   98.0       M  20000.0         HR\n",
      "10     Hari  100.0       M  20000.0         HR\n"
     ]
    },
    {
     "name": "stderr",
     "output_type": "stream",
     "text": [
      "<>:2: SyntaxWarning: invalid escape sequence '\\s'\n",
      "<>:2: SyntaxWarning: invalid escape sequence '\\s'\n",
      "C:\\Users\\LENOVO\\AppData\\Local\\Temp\\ipykernel_17504\\2003645134.py:2: SyntaxWarning: invalid escape sequence '\\s'\n",
      "  df = pd.read_csv(\"sample_data\\sample_dirty_dataset.csv\")\n"
     ]
    }
   ],
   "source": [
    "import pandas as pd\n",
    "df = pd.read_csv(\"sample_data\\sample_dirty_dataset.csv\")\n",
    "print(df)"
   ]
  },
  {
   "cell_type": "markdown",
   "id": "eda1b483",
   "metadata": {},
   "source": [
    "**I Have a Dataset**\n",
    "1. In that dataset I have some missing values.\n",
    "2. I have to fill them.\n",
    "3. Before filling them, we check for outliers. \n",
    "    * If there are outliers we firstly remove them \n",
    "4. We fill the missing values. "
   ]
  },
  {
   "cell_type": "code",
   "execution_count": 10,
   "id": "95cd2bbc",
   "metadata": {},
   "outputs": [
    {
     "name": "stderr",
     "output_type": "stream",
     "text": [
      "C:\\Users\\LENOVO\\AppData\\Local\\Temp\\ipykernel_17504\\2185224880.py:15: FutureWarning: A value is trying to be set on a copy of a DataFrame or Series through chained assignment using an inplace method.\n",
      "The behavior will change in pandas 3.0. This inplace method will never work because the intermediate object on which we are setting values always behaves as a copy.\n",
      "\n",
      "For example, when doing 'df[col].method(value, inplace=True)', try using 'df.method({col: value}, inplace=True)' or df[col] = df[col].method(value) instead, to perform the operation inplace on the original object.\n",
      "\n",
      "\n",
      "  df_outliers_cleaned[\"Department\"].fillna(\"Unknown\", inplace = True)\n"
     ]
    },
    {
     "data": {
      "text/html": [
       "<div>\n",
       "<style scoped>\n",
       "    .dataframe tbody tr th:only-of-type {\n",
       "        vertical-align: middle;\n",
       "    }\n",
       "\n",
       "    .dataframe tbody tr th {\n",
       "        vertical-align: top;\n",
       "    }\n",
       "\n",
       "    .dataframe thead th {\n",
       "        text-align: right;\n",
       "    }\n",
       "</style>\n",
       "<table border=\"1\" class=\"dataframe\">\n",
       "  <thead>\n",
       "    <tr style=\"text-align: right;\">\n",
       "      <th></th>\n",
       "      <th>Name</th>\n",
       "      <th>Age</th>\n",
       "      <th>Gender</th>\n",
       "      <th>Salary</th>\n",
       "      <th>Department</th>\n",
       "    </tr>\n",
       "  </thead>\n",
       "  <tbody>\n",
       "    <tr>\n",
       "      <th>1</th>\n",
       "      <td>Alice</td>\n",
       "      <td>25.0</td>\n",
       "      <td>F</td>\n",
       "      <td>50000.0</td>\n",
       "      <td>HR</td>\n",
       "    </tr>\n",
       "    <tr>\n",
       "      <th>4</th>\n",
       "      <td>David</td>\n",
       "      <td>22.0</td>\n",
       "      <td>M</td>\n",
       "      <td>45000.0</td>\n",
       "      <td>IT</td>\n",
       "    </tr>\n",
       "    <tr>\n",
       "      <th>5</th>\n",
       "      <td>Eve</td>\n",
       "      <td>29.0</td>\n",
       "      <td>F</td>\n",
       "      <td>70000.0</td>\n",
       "      <td>HR</td>\n",
       "    </tr>\n",
       "    <tr>\n",
       "      <th>6</th>\n",
       "      <td>Frank</td>\n",
       "      <td>40.0</td>\n",
       "      <td>M</td>\n",
       "      <td>80000.0</td>\n",
       "      <td>Unknown</td>\n",
       "    </tr>\n",
       "  </tbody>\n",
       "</table>\n",
       "</div>"
      ],
      "text/plain": [
       "    Name   Age Gender   Salary Department\n",
       "1  Alice  25.0      F  50000.0         HR\n",
       "4  David  22.0      M  45000.0         IT\n",
       "5    Eve  29.0      F  70000.0         HR\n",
       "6  Frank  40.0      M  80000.0    Unknown"
      ]
     },
     "execution_count": 10,
     "metadata": {},
     "output_type": "execute_result"
    }
   ],
   "source": [
    "def remove_outliers_IQR(data,column):\n",
    "    Q1 = data[column].quantile(0.25)\n",
    "    Q3 = data[column].quantile(0.75)\n",
    "    IQR = Q3-Q1\n",
    "    lower_bound = Q1-1.5*IQR\n",
    "    upper_bound = Q3+1.5 *IQR\n",
    "    \n",
    "    return data[(data[column] >=lower_bound)& (data[column]<=upper_bound)]\n",
    "\n",
    "\n",
    "df_outliers_cleaned = (df.pipe(remove_outliers_IQR, column=\"Age\").pipe(remove_outliers_IQR, column=\"Salary\"))\n",
    "\n",
    "\n",
    "# Fill the Unknown Values -> Strings\n",
    "df_outliers_cleaned[\"Department\"].fillna(\"Unknown\", inplace = True)\n",
    "\n",
    "# Remove Duplicates\n",
    "df_outliers_cleaned.drop_duplicates(inplace = True)\n",
    "\n",
    "# Making Data consistent\n",
    "df_outliers_cleaned[\"Gender\"] = df[\"Gender\"].replace({\"Male\" : \"M\",\n",
    "                                           \"Female\" : \"F\"})\n",
    "\n",
    "df_outliers_cleaned.to_csv(\"Cleaned_data.csv\", index = False)\n",
    "df_outliers_cleaned\n",
    "   "
   ]
  }
 ],
 "metadata": {
  "kernelspec": {
   "display_name": "Python 3",
   "language": "python",
   "name": "python3"
  },
  "language_info": {
   "codemirror_mode": {
    "name": "ipython",
    "version": 3
   },
   "file_extension": ".py",
   "mimetype": "text/x-python",
   "name": "python",
   "nbconvert_exporter": "python",
   "pygments_lexer": "ipython3",
   "version": "3.12.6"
  }
 },
 "nbformat": 4,
 "nbformat_minor": 5
}
